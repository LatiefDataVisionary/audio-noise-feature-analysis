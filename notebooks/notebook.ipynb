{
  "nbformat": 4,
  "nbformat_minor": 0,
  "metadata": {
    "colab": {
      "provenance": [],
      "authorship_tag": "ABX9TyM0Jni+rTNVGfUfVE3aSKkn",
      "include_colab_link": true
    },
    "kernelspec": {
      "name": "python3",
      "display_name": "Python 3"
    },
    "language_info": {
      "name": "python"
    }
  },
  "cells": [
    {
      "cell_type": "markdown",
      "metadata": {
        "id": "view-in-github",
        "colab_type": "text"
      },
      "source": [
        "<a href=\"https://colab.research.google.com/github/LatiefDataVisionary/audio-noise-feature-analysis/blob/main/notebooks/notebook.ipynb\" target=\"_parent\"><img src=\"https://colab.research.google.com/assets/colab-badge.svg\" alt=\"Open In Colab\"/></a>"
      ]
    },
    {
      "cell_type": "markdown",
      "metadata": {
        "id": "793b229b"
      },
      "source": [
        "# **High-Level Feature Analysis of Environmental Noise**\n",
        "\n",
        "## **1. Project Setup and Initialization**\n",
        "\n",
        "### 1.1 Introduction\n",
        "\n",
        "This project aims to analyze and visualize high-level audio features, specifically Spectrogram and Chroma Features, extracted from a dataset of 10 different environmental noise types. This analysis serves as a Capstone project for the \"High Level Speech Feature\" course provided by BISA AI Academy. The dataset used is the \"Audio Noise Dataset\" sourced from Kaggle, containing various types of environmental noise in `.webm` format. The goal is to demonstrate how these features can help differentiate between distinct sound sources visually."
      ]
    },
    {
      "cell_type": "markdown",
      "metadata": {
        "id": "0af3c7d7"
      },
      "source": [
        "### 1.2 Library Installation and Imports\n",
        "\n",
        "We will begin by installing and importing the necessary Python libraries for audio processing, visualization, and file handling."
      ]
    },
    {
      "cell_type": "code",
      "metadata": {
        "id": "18c3173e"
      },
      "source": [
        "# Install necessary libraries\n",
        "!pip install librosa matplotlib numpy seaborn ffmpeg"
      ],
      "execution_count": null,
      "outputs": []
    },
    {
      "cell_type": "code",
      "metadata": {
        "id": "d5078046"
      },
      "source": [
        "# Import necessary libraries\n",
        "import librosa\n",
        "import librosa.display\n",
        "import matplotlib.pyplot as plt\n",
        "import numpy as np\n",
        "import os\n",
        "from google.colab import drive"
      ],
      "execution_count": null,
      "outputs": []
    },
    {
      "cell_type": "markdown",
      "metadata": {
        "id": "333f206e"
      },
      "source": [
        "### 1.3 Mounting Google Drive\n",
        "\n",
        "The dataset is assumed to be stored in Google Drive. We will mount Google Drive to access the audio files. Please ensure your dataset is located in the specified path within your Drive."
      ]
    },
    {
      "cell_type": "code",
      "metadata": {
        "id": "f825ac18"
      },
      "source": [
        "# Mount Google Drive to access the dataset\n",
        "drive.mount('/content/drive')"
      ],
      "execution_count": null,
      "outputs": []
    },
    {
      "cell_type": "markdown",
      "metadata": {
        "id": "9f447465"
      },
      "source": [
        "### 1.4 Path and Constant Definition\n",
        "\n",
        "Define the paths for the raw dataset in Google Drive and the directory where converted audio files will be stored. We will also create the output directory if it doesn't exist."
      ]
    },
    {
      "cell_type": "code",
      "metadata": {
        "id": "18ad1722"
      },
      "source": [
        "# Define paths\n",
        "DRIVE_DATASET_PATH = '/content/drive/MyDrive/BISA_AI_Capstone_Dataset/'\n",
        "PROCESSED_DATA_PATH = 'processed_audio'\n",
        "\n",
        "# Create the processed audio directory if it doesn't exist\n",
        "if not os.path.exists(PROCESSED_DATA_PATH):\n",
        "    os.makedirs(PROCESSED_DATA_PATH)\n",
        "    print(f\"Created directory: {PROCESSED_DATA_PATH}\")\n",
        "else:\n",
        "    print(f\"Directory already exists: {PROCESSED_DATA_PATH}\")"
      ],
      "execution_count": null,
      "outputs": []
    }
  ]
}